{
 "cells": [
  {
   "cell_type": "code",
   "execution_count": null,
   "id": "6f172d48-376f-450f-b57d-dc2554a7e1f5",
   "metadata": {},
   "outputs": [],
   "source": []
  }
 ],
 "metadata": {
  "kernelspec": {
   "display_name": "",
   "name": ""
  },
  "language_info": {
   "name": ""
  }
 },
 "nbformat": 4,
 "nbformat_minor": 5
}
