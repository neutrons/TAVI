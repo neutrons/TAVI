{
 "cells": [
  {
   "cell_type": "code",
   "execution_count": 110,
   "id": "1e2bd9bc",
   "metadata": {},
   "outputs": [
    {
     "name": "stdout",
     "output_type": "stream",
     "text": [
      "Looking in links: https://repoman.ornl.gov/pypi/web/simple\r\n",
      "Requirement already satisfied: tabulate in /SNS/users/gy7/.local/lib/python3.10/site-packages (0.9.0)\r\n"
     ]
    }
   ],
   "source": [
    "!pip install tabulate --user"
   ]
  },
  {
   "cell_type": "markdown",
   "id": "7277ef5a",
   "metadata": {},
   "source": [
    "# Import Stuff here"
   ]
  },
  {
   "cell_type": "code",
   "execution_count": 259,
   "id": "1deb7218",
   "metadata": {},
   "outputs": [],
   "source": [
    "import os\n",
    "import sys\n",
    "import re\n",
    "import numpy as np\n",
    "import pandas as pd\n",
    "from scipy.interpolate import griddata\n",
    "from tabulate import tabulate\n",
    "import matplotlib.pyplot as plt"
   ]
  },
  {
   "cell_type": "markdown",
   "id": "d80cee34",
   "metadata": {},
   "source": [
    "### Define paths here"
   ]
  },
  {
   "cell_type": "code",
   "execution_count": 130,
   "id": "9c7f547c",
   "metadata": {},
   "outputs": [
    {
     "name": "stdout",
     "output_type": "stream",
     "text": [
      "/SNS/snfs1/instruments-hfir/HB3/IPTS-34735/exp823/Shared/GY_scripts\n"
     ]
    }
   ],
   "source": [
    "MAIN_DIR = os.getcwd()\n",
    "print(MAIN_DIR)"
   ]
  },
  {
   "cell_type": "code",
   "execution_count": 131,
   "id": "80ba831f",
   "metadata": {},
   "outputs": [],
   "source": [
    "DATA_DIR = '/SNS/snfs1/instruments-hfir/HB3/IPTS-34735/exp823/Datafiles'"
   ]
  },
  {
   "cell_type": "markdown",
   "id": "40c32714",
   "metadata": {},
   "source": [
    "### Define functions here"
   ]
  },
  {
   "cell_type": "code",
   "execution_count": 177,
   "id": "29f7c801",
   "metadata": {},
   "outputs": [],
   "source": [
    "def data_reader(scannumber):\n",
    "    comments = []\n",
    "    header = []\n",
    "    footer = []\n",
    "    with open('{}/HB3_exp0823_scan0{}.dat'.format(DATA_DIR, scannumber)) as f:\n",
    "        data = f.readlines()\n",
    "    #for x in data[29:]:\n",
    "    #    print(x)\n",
    "    for i in range(29):\n",
    "        comments.append(data.pop(0))\n",
    "    header.append(data.pop(0))\n",
    "    for i in range(4):\n",
    "        footer.append(data.pop(-1))\n",
    "\n",
    "    datarray = []\n",
    "    for i in data:\n",
    "        datarray.append(np.array(i.split(), dtype='float'))\n",
    "    return(comments, header, footer, datarray)"
   ]
  },
  {
   "cell_type": "code",
   "execution_count": 178,
   "id": "bb410fa5",
   "metadata": {},
   "outputs": [],
   "source": [
    "def which_command(comment):\n",
    "    for line in comment:\n",
    "        if '# command =' in line:\n",
    "            #print(line)\n",
    "            return(line)"
   ]
  },
  {
   "cell_type": "code",
   "execution_count": 179,
   "id": "23632257",
   "metadata": {},
   "outputs": [],
   "source": [
    "def what_scan(command_line):\n",
    "    # Use regular expression to find values for h, k, l, e, ef, and mcu\n",
    "    match = re.search(r'h (\\S+) k (\\S+) l (\\S+) e (\\S+).* ef (\\S+).* mcu (\\S+)', command_line)\n",
    "    if match:\n",
    "        h = match.group(1)\n",
    "        k = match.group(2)\n",
    "        l = match.group(3)\n",
    "        e = match.group(4)\n",
    "        ef = match.group(5)\n",
    "        mcu = match.group(6)\n",
    "\n",
    "        #print(\"h:\", h)\n",
    "        #print(\"k:\", k)\n",
    "        #print(\"l:\", l)\n",
    "        #print(\"e:\", e)\n",
    "        #print(\"ef:\", ef)\n",
    "        #print(\"mcu:\", mcu)\n",
    "        return([float(h), float(k), float(l)], float(e), float(ef), float(mcu))\n"
   ]
  },
  {
   "cell_type": "code",
   "execution_count": 180,
   "id": "0ec5cd46",
   "metadata": {},
   "outputs": [],
   "source": [
    "def all_scans_table(scans):\n",
    "    table_data = []\n",
    "    for i in scans:\n",
    "        comments, header, footer, datarray = data_reader(i)\n",
    "        command = which_command(comments)\n",
    "        result = what_scan(command)\n",
    "        if result:\n",
    "            table_data.append([i] + result[0] + [result[1], result[2], result[3]])\n",
    "        \n",
    "    df = pd.DataFrame(table_data, columns=[\"Scan#\", \"h\", \"k\", \"l\", \"e\", \"ef\", \"mcu\"])\n",
    "    pd.set_option(\"display.max_rows\", None)    # Show all rows\n",
    "    pd.set_option(\"display.max_columns\", None) # Show all columns\n",
    "    pd.set_option(\"display.width\", None)       # No limit on column width\n",
    "    pd.set_option(\"display.max_colwidth\", None) # Show full column content\n",
    "    print(df)\n",
    "    #print(tabulate(df, headers=\"keys\", tablefmt=\"fancy_grid\", showindex=False))"
   ]
  },
  {
   "cell_type": "markdown",
   "id": "008eb817",
   "metadata": {},
   "source": [
    "### Use the command below to print a table of the scans "
   ]
  },
  {
   "cell_type": "code",
   "execution_count": 182,
   "id": "078d48aa",
   "metadata": {},
   "outputs": [],
   "source": [
    "#all_scans_table(scans)"
   ]
  },
  {
   "cell_type": "markdown",
   "id": "521aa0b6",
   "metadata": {},
   "source": [
    "### Actual data processing done here -- Define data processing functions"
   ]
  },
  {
   "cell_type": "code",
   "execution_count": 235,
   "id": "48309d2d",
   "metadata": {},
   "outputs": [],
   "source": [
    "scans = [str(x).zfill(3) for x in range(134, 146, 1)]"
   ]
  },
  {
   "cell_type": "code",
   "execution_count": 236,
   "id": "71de1d92",
   "metadata": {
    "scrolled": false
   },
   "outputs": [],
   "source": [
    "comments, header, footer, datarray = data_reader(scans[0])"
   ]
  },
  {
   "cell_type": "code",
   "execution_count": 237,
   "id": "7a8aca8e",
   "metadata": {},
   "outputs": [
    {
     "data": {
      "text/plain": [
       "['#   Pt.          h          k          l          e         ef       time   detector    monitor        mcu focal_length         m1         m2   mcrystal       marc     mtrans     mfocus         s1         s2        sgl        sgu        bbb        bbl        bbr        bbt        bab        bal        bar        bat        stl        stu         a1         a2          q         ei        vti     sample       temp     temp_2\\n']"
      ]
     },
     "execution_count": 237,
     "metadata": {},
     "output_type": "execute_result"
    }
   ],
   "source": [
    "header"
   ]
  },
  {
   "cell_type": "code",
   "execution_count": 238,
   "id": "54c27474",
   "metadata": {},
   "outputs": [],
   "source": [
    "def data_process(dataarray):\n",
    "    h_array = []\n",
    "    k_array = []\n",
    "    l_array = []\n",
    "    e_array = []\n",
    "    ef_array = []\n",
    "    t_array = []\n",
    "    d_array = []\n",
    "    m_array = []\n",
    "    q_array = []\n",
    "    ei_array = []\n",
    "    st_array = []\n",
    "    for i in dataarray:\n",
    "        temp = i\n",
    "        h_array.append(temp[1])\n",
    "        k_array.append(temp[2])\n",
    "        l_array.append(temp[3])\n",
    "        e_array.append(temp[4])\n",
    "        ef_array.append(temp[5])\n",
    "        t_array.append(temp[6])\n",
    "        d_array.append(temp[7]) \n",
    "        m_array.append(temp[8]) \n",
    "        q_array.append(temp[-6]) \n",
    "        ei_array.append(temp[-5])\n",
    "        st_array.append(temp[-3])\n",
    "    final_array = [h_array, k_array, l_array, e_array, ef_array, \n",
    "                  t_array, d_array, m_array, q_array, ei_array, st_array]\n",
    "    #return(np.transpose(final_array))\n",
    "    return (final_array)\n",
    "    "
   ]
  },
  {
   "cell_type": "code",
   "execution_count": 243,
   "id": "9fb4d5a5",
   "metadata": {},
   "outputs": [],
   "source": [
    "def data_finallizer():\n",
    "    all_arrays = []\n",
    "    for scan in scans:\n",
    "        comments, header, footer, datarray = data_reader(scan)\n",
    "        array_now = data_process(datarray)\n",
    "        all_arrays.append(array_now)\n",
    "    return all_arrays\n",
    "\n",
    "all_arrays = data_finallizer()"
   ]
  },
  {
   "cell_type": "code",
   "execution_count": 244,
   "id": "e5b43307",
   "metadata": {},
   "outputs": [],
   "source": [
    "#all_arrays"
   ]
  },
  {
   "cell_type": "code",
   "execution_count": 284,
   "id": "96443aec",
   "metadata": {},
   "outputs": [
    {
     "name": "stderr",
     "output_type": "stream",
     "text": [
      "/tmp/ipykernel_1425392/3494278924.py:13: RuntimeWarning: invalid value encountered in divide\n",
      "  dm_ratio = np.divide(d_array, m_array, out=np.zeros_like(d_array, dtype=float), where=(m_array != 0))\n"
     ]
    },
    {
     "data": {
      "image/png": "[encoded data removed]",
      "text/plain": [
       "<Figure size 1000x600 with 2 Axes>"
      ]
     },
     "metadata": {},
     "output_type": "display_data"
    }
   ],
   "source": [
    "\n",
    "# Extract H, E, D, and M arrays from all_arrays\n",
    "h_all = []\n",
    "e_all = []\n",
    "dm_all = []\n",
    "\n",
    "for array_now in all_arrays:\n",
    "    h_array = array_now[0]   # H array\n",
    "    e_array = array_now[3]   # E array\n",
    "    d_array = array_now[6]   # D array\n",
    "    m_array = array_now[7]   # M array\n",
    "\n",
    "    # Compute D/M ratio\n",
    "    dm_ratio = np.divide(d_array, m_array, out=np.zeros_like(d_array, dtype=float), where=(m_array != 0))\n",
    "    \n",
    "    h_all.extend(h_array)\n",
    "    e_all.extend(e_array)\n",
    "    dm_all.extend(dm_ratio)\n",
    "\n",
    "# Convert lists to numpy arrays for plotting\n",
    "h_all = np.array(h_all)\n",
    "e_all = np.array(e_all)\n",
    "dm_all = np.array(dm_all)\n",
    "\n",
    "# Filter out non-finite values\n",
    "mask = np.isfinite(dm_all) & np.isfinite(h_all) & np.isfinite(e_all)\n",
    "h_all = h_all[mask]\n",
    "e_all = e_all[mask]\n",
    "dm_all = dm_all[mask]\n",
    "\n",
    "# Create a grid for H and E\n",
    "h_grid = np.linspace(np.min(h_all), np.max(h_all), 100)  # 100 points in H\n",
    "e_grid = np.linspace(np.min(e_all), np.max(e_all), 100)  # 100 points in E\n",
    "H, E = np.meshgrid(h_grid, e_grid)\n",
    "\n",
    "# Interpolate D/M ratio onto the grid using nearest neighbor\n",
    "DM_grid = griddata((h_all, e_all), dm_all, (H, E), method='nearest')\n",
    "\n",
    "# Set color limits (adjust as needed)\n",
    "vmin = 0 #np.nanmin(dm_grid)  # Minimum value for color scale\n",
    "vmax = 0.00015 # Maximum value for color scale\n",
    "\n",
    "# Create the image plot using imshow\n",
    "plt.figure(figsize=(10, 6))\n",
    "plt.imshow(DM_grid, extent=(np.min(h_grid), np.max(h_grid), np.min(e_grid), np.max(e_grid)),\n",
    "           origin='lower', aspect='auto', cmap='viridis', vmin=vmin, vmax=vmax)\n",
    "plt.colorbar(label=\"D/M Ratio\")\n",
    "plt.xlabel(\"H\")\n",
    "plt.ylabel(\"E\")\n",
    "plt.xlim(1, 1.5)\n",
    "plt.ylim(15, 45)\n",
    "plt.title(\"Image Plot of D/M Ratio with H vs E (Nearest Neighbor Interpolation)\")\n",
    "plt.show()\n"
   ]
  },
  {
   "cell_type": "code",
   "execution_count": null,
   "id": "a1405fda",
   "metadata": {},
   "outputs": [],
   "source": []
  }
 ],
 "metadata": {
  "kernelspec": {
   "display_name": "Python [conda env:mantid]",
   "language": "python",
   "name": "conda-env-mantid-py"
  },
  "language_info": {
   "codemirror_mode": {
    "name": "ipython",
    "version": 3
   },
   "file_extension": ".py",
   "mimetype": "text/x-python",
   "name": "python",
   "nbconvert_exporter": "python",
   "pygments_lexer": "ipython3",
   "version": "3.10.15"
  }
 },
 "nbformat": 4,
 "nbformat_minor": 5
}
